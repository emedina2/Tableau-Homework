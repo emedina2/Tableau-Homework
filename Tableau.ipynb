{
 "cells": [
  {
   "cell_type": "code",
   "execution_count": 8,
   "id": "719cd178",
   "metadata": {},
   "outputs": [],
   "source": [
    "#Load Dependencies\n",
    "import datetime as dt\n",
    "from datetime import datetime\n",
    "import numpy as np\n",
    "import pandas as pd\n",
    "from uszipcode import SearchEngine"
   ]
  },
  {
   "cell_type": "code",
   "execution_count": 2,
   "id": "e54e52e8",
   "metadata": {},
   "outputs": [
    {
     "output_type": "execute_result",
     "data": {
      "text/plain": [
       "   tripduration                 starttime                  stoptime  \\\n",
       "0           146  2020-12-01 00:02:50.1450  2020-12-01 00:05:16.1940   \n",
       "1           572  2020-12-01 00:11:57.3910  2020-12-01 00:21:30.2510   \n",
       "2           387  2020-12-01 00:14:49.3610  2020-12-01 00:21:16.8730   \n",
       "3           188  2020-12-01 00:45:06.3680  2020-12-01 00:48:14.4280   \n",
       "4           594  2020-12-01 01:17:17.0110  2020-12-01 01:27:11.9400   \n",
       "\n",
       "   start station id start station name  start station latitude  \\\n",
       "0              3202       Newport PATH               40.727224   \n",
       "1              3640     Journal Square               40.733670   \n",
       "2              3640     Journal Square               40.733670   \n",
       "3              3186      Grove St PATH               40.719586   \n",
       "4              3212    Christ Hospital               40.734786   \n",
       "\n",
       "   start station longitude  end station id end station name  \\\n",
       "0               -74.033759            3199     Newport Pkwy   \n",
       "1               -74.062500            3280      Astor Place   \n",
       "2               -74.062500            3194  McGinley Square   \n",
       "3               -74.043117            3270  Jersey & 6th St   \n",
       "4               -74.050444            3209     Brunswick St   \n",
       "\n",
       "   end station latitude  end station longitude  bikeid    usertype  \\\n",
       "0             40.728745             -74.032108   42308  Subscriber   \n",
       "1             40.719282             -74.071262   18568  Subscriber   \n",
       "2             40.725340             -74.067622   44543  Subscriber   \n",
       "3             40.725289             -74.045572   43098  Subscriber   \n",
       "4             40.724176             -74.050656   44723  Subscriber   \n",
       "\n",
       "   birth year  gender  \n",
       "0        1989       2  \n",
       "1        1997       2  \n",
       "2        1960       1  \n",
       "3        1998       1  \n",
       "4        1988       1  "
      ],
      "text/html": "<div>\n<style scoped>\n    .dataframe tbody tr th:only-of-type {\n        vertical-align: middle;\n    }\n\n    .dataframe tbody tr th {\n        vertical-align: top;\n    }\n\n    .dataframe thead th {\n        text-align: right;\n    }\n</style>\n<table border=\"1\" class=\"dataframe\">\n  <thead>\n    <tr style=\"text-align: right;\">\n      <th></th>\n      <th>tripduration</th>\n      <th>starttime</th>\n      <th>stoptime</th>\n      <th>start station id</th>\n      <th>start station name</th>\n      <th>start station latitude</th>\n      <th>start station longitude</th>\n      <th>end station id</th>\n      <th>end station name</th>\n      <th>end station latitude</th>\n      <th>end station longitude</th>\n      <th>bikeid</th>\n      <th>usertype</th>\n      <th>birth year</th>\n      <th>gender</th>\n    </tr>\n  </thead>\n  <tbody>\n    <tr>\n      <th>0</th>\n      <td>146</td>\n      <td>2020-12-01 00:02:50.1450</td>\n      <td>2020-12-01 00:05:16.1940</td>\n      <td>3202</td>\n      <td>Newport PATH</td>\n      <td>40.727224</td>\n      <td>-74.033759</td>\n      <td>3199</td>\n      <td>Newport Pkwy</td>\n      <td>40.728745</td>\n      <td>-74.032108</td>\n      <td>42308</td>\n      <td>Subscriber</td>\n      <td>1989</td>\n      <td>2</td>\n    </tr>\n    <tr>\n      <th>1</th>\n      <td>572</td>\n      <td>2020-12-01 00:11:57.3910</td>\n      <td>2020-12-01 00:21:30.2510</td>\n      <td>3640</td>\n      <td>Journal Square</td>\n      <td>40.733670</td>\n      <td>-74.062500</td>\n      <td>3280</td>\n      <td>Astor Place</td>\n      <td>40.719282</td>\n      <td>-74.071262</td>\n      <td>18568</td>\n      <td>Subscriber</td>\n      <td>1997</td>\n      <td>2</td>\n    </tr>\n    <tr>\n      <th>2</th>\n      <td>387</td>\n      <td>2020-12-01 00:14:49.3610</td>\n      <td>2020-12-01 00:21:16.8730</td>\n      <td>3640</td>\n      <td>Journal Square</td>\n      <td>40.733670</td>\n      <td>-74.062500</td>\n      <td>3194</td>\n      <td>McGinley Square</td>\n      <td>40.725340</td>\n      <td>-74.067622</td>\n      <td>44543</td>\n      <td>Subscriber</td>\n      <td>1960</td>\n      <td>1</td>\n    </tr>\n    <tr>\n      <th>3</th>\n      <td>188</td>\n      <td>2020-12-01 00:45:06.3680</td>\n      <td>2020-12-01 00:48:14.4280</td>\n      <td>3186</td>\n      <td>Grove St PATH</td>\n      <td>40.719586</td>\n      <td>-74.043117</td>\n      <td>3270</td>\n      <td>Jersey &amp; 6th St</td>\n      <td>40.725289</td>\n      <td>-74.045572</td>\n      <td>43098</td>\n      <td>Subscriber</td>\n      <td>1998</td>\n      <td>1</td>\n    </tr>\n    <tr>\n      <th>4</th>\n      <td>594</td>\n      <td>2020-12-01 01:17:17.0110</td>\n      <td>2020-12-01 01:27:11.9400</td>\n      <td>3212</td>\n      <td>Christ Hospital</td>\n      <td>40.734786</td>\n      <td>-74.050444</td>\n      <td>3209</td>\n      <td>Brunswick St</td>\n      <td>40.724176</td>\n      <td>-74.050656</td>\n      <td>44723</td>\n      <td>Subscriber</td>\n      <td>1988</td>\n      <td>1</td>\n    </tr>\n  </tbody>\n</table>\n</div>"
     },
     "metadata": {},
     "execution_count": 2
    }
   ],
   "source": [
    "#read in csv for data from December 2020\n",
    "data = pd.read_csv('JC-202012-citibike-tripdata.csv')\n",
    "data.head()"
   ]
  },
  {
   "cell_type": "code",
   "execution_count": 9,
   "id": "0bc8a669",
   "metadata": {},
   "outputs": [],
   "source": [
    "#grab all stations in start & end station clumns\n",
    "\n",
    "start_stations = data[['start station id','start station latitude', 'start station longitude']]\n",
    "start_stations = start_stations.rename(columns={'start station id': 'Station_ID','start station latitude': 'Latitude', 'start station longitude': 'Longitude'})\n",
    "end_stations = data[['end station id','end station latitude', 'end station longitude']]\n",
    "end_stations = end_stations.rename(columns={'end station id': 'Station_ID','end station latitude': 'Latitude', 'end station longitude': 'Longitude'})"
   ]
  },
  {
   "cell_type": "code",
   "execution_count": 10,
   "metadata": {},
   "outputs": [
    {
     "output_type": "execute_result",
     "data": {
      "text/plain": [
       "       Station_ID   Latitude  Longitude\n",
       "0            3202  40.727224 -74.033759\n",
       "1            3640  40.733670 -74.062500\n",
       "2            3640  40.733670 -74.062500\n",
       "3            3186  40.719586 -74.043117\n",
       "4            3212  40.734786 -74.050444\n",
       "...           ...        ...        ...\n",
       "11689        3199  40.728745 -74.032108\n",
       "11690        3195  40.730897 -74.063913\n",
       "11691        3270  40.725289 -74.045572\n",
       "11692        3199  40.728745 -74.032108\n",
       "11693        3267  40.712419 -74.038526\n",
       "\n",
       "[23388 rows x 3 columns]"
      ],
      "text/html": "<div>\n<style scoped>\n    .dataframe tbody tr th:only-of-type {\n        vertical-align: middle;\n    }\n\n    .dataframe tbody tr th {\n        vertical-align: top;\n    }\n\n    .dataframe thead th {\n        text-align: right;\n    }\n</style>\n<table border=\"1\" class=\"dataframe\">\n  <thead>\n    <tr style=\"text-align: right;\">\n      <th></th>\n      <th>Station_ID</th>\n      <th>Latitude</th>\n      <th>Longitude</th>\n    </tr>\n  </thead>\n  <tbody>\n    <tr>\n      <th>0</th>\n      <td>3202</td>\n      <td>40.727224</td>\n      <td>-74.033759</td>\n    </tr>\n    <tr>\n      <th>1</th>\n      <td>3640</td>\n      <td>40.733670</td>\n      <td>-74.062500</td>\n    </tr>\n    <tr>\n      <th>2</th>\n      <td>3640</td>\n      <td>40.733670</td>\n      <td>-74.062500</td>\n    </tr>\n    <tr>\n      <th>3</th>\n      <td>3186</td>\n      <td>40.719586</td>\n      <td>-74.043117</td>\n    </tr>\n    <tr>\n      <th>4</th>\n      <td>3212</td>\n      <td>40.734786</td>\n      <td>-74.050444</td>\n    </tr>\n    <tr>\n      <th>...</th>\n      <td>...</td>\n      <td>...</td>\n      <td>...</td>\n    </tr>\n    <tr>\n      <th>11689</th>\n      <td>3199</td>\n      <td>40.728745</td>\n      <td>-74.032108</td>\n    </tr>\n    <tr>\n      <th>11690</th>\n      <td>3195</td>\n      <td>40.730897</td>\n      <td>-74.063913</td>\n    </tr>\n    <tr>\n      <th>11691</th>\n      <td>3270</td>\n      <td>40.725289</td>\n      <td>-74.045572</td>\n    </tr>\n    <tr>\n      <th>11692</th>\n      <td>3199</td>\n      <td>40.728745</td>\n      <td>-74.032108</td>\n    </tr>\n    <tr>\n      <th>11693</th>\n      <td>3267</td>\n      <td>40.712419</td>\n      <td>-74.038526</td>\n    </tr>\n  </tbody>\n</table>\n<p>23388 rows × 3 columns</p>\n</div>"
     },
     "metadata": {},
     "execution_count": 10
    }
   ],
   "source": [
    "#combine stations listed in both start & end station columns\n",
    "combined_stations = pd.concat([start_stations, end_stations])\n",
    "combined_stations"
   ]
  },
  {
   "cell_type": "code",
   "execution_count": 14,
   "metadata": {},
   "outputs": [
    {
     "output_type": "execute_result",
     "data": {
      "text/plain": [
       "       Station_ID   Latitude  Longitude\n",
       "0            3202  40.727224 -74.033759\n",
       "1            3640  40.733670 -74.062500\n",
       "3            3186  40.719586 -74.043117\n",
       "4            3212  40.734786 -74.050444\n",
       "5            3194  40.725340 -74.067622\n",
       "6            3184  40.714145 -74.033552\n",
       "9            3199  40.728745 -74.032108\n",
       "11           3678  40.725726 -74.071959\n",
       "17           3679  40.722104 -74.071455\n",
       "18           3206  40.731169 -74.057574\n",
       "19           3195  40.730897 -74.063913\n",
       "22           3270  40.725289 -74.045572\n",
       "23           3279  40.721630 -74.049968\n",
       "24           3203  40.727596 -74.044247\n",
       "27           3187  40.721124 -74.038051\n",
       "29           3681  40.715178 -74.037683\n",
       "32           3677  40.727551 -74.071061\n",
       "34           3267  40.712419 -74.038526\n",
       "35           3268  40.713464 -74.062859\n",
       "37           3278  40.725685 -74.048790\n",
       "38           3269  40.726012 -74.050389\n",
       "39           3276  40.714584 -74.042817\n",
       "44           3209  40.724176 -74.050656\n",
       "45           3213  40.718489 -74.047727\n",
       "49           3205  40.716540 -74.049638\n",
       "55           3214  40.712774 -74.036486\n",
       "58           3275  40.718355 -74.038914\n",
       "60           3638  40.724294 -74.035483\n",
       "66           3201  40.737711 -74.066921\n",
       "71           3192  40.711242 -74.055701\n",
       "73           3193  40.724605 -74.078406\n",
       "76           3273  40.721651 -74.042884\n",
       "78           3280  40.719282 -74.071262\n",
       "82           3792  40.716870 -74.032810\n",
       "84           3272  40.723332 -74.045953\n",
       "87           3639  40.719252 -74.034234\n",
       "91           3211  40.721525 -74.046305\n",
       "97           3210  40.742677 -74.051789\n",
       "114          3225  40.723659 -74.064194\n",
       "134          3191  40.718211 -74.083639\n",
       "139          3220  40.734961 -74.059503\n",
       "166          3185  40.717732 -74.043845\n",
       "170          3281  40.745910 -74.057271\n",
       "171          3791  40.735208 -74.046964\n",
       "172          3481  40.716490 -74.041050\n",
       "251          3207  40.737604 -74.052478\n",
       "266          3483  40.719420 -74.050990\n",
       "267          3694  40.711130 -74.078900\n",
       "271          3277  40.714358 -74.066611\n",
       "272          3196  40.744319 -74.043991\n",
       "796          3198  40.748716 -74.040443\n",
       "4289         3664  40.720195 -74.010301\n",
       "6632          514  40.760875 -74.002777\n",
       "7214          505  40.749013 -73.988484\n",
       "7850          127  40.731724 -74.006744\n",
       "8195         4071  40.835775 -73.943400\n",
       "9933         3735  40.752694 -74.002353\n",
       "10345        3794  40.728660 -74.011980"
      ],
      "text/html": "<div>\n<style scoped>\n    .dataframe tbody tr th:only-of-type {\n        vertical-align: middle;\n    }\n\n    .dataframe tbody tr th {\n        vertical-align: top;\n    }\n\n    .dataframe thead th {\n        text-align: right;\n    }\n</style>\n<table border=\"1\" class=\"dataframe\">\n  <thead>\n    <tr style=\"text-align: right;\">\n      <th></th>\n      <th>Station_ID</th>\n      <th>Latitude</th>\n      <th>Longitude</th>\n    </tr>\n  </thead>\n  <tbody>\n    <tr>\n      <th>0</th>\n      <td>3202</td>\n      <td>40.727224</td>\n      <td>-74.033759</td>\n    </tr>\n    <tr>\n      <th>1</th>\n      <td>3640</td>\n      <td>40.733670</td>\n      <td>-74.062500</td>\n    </tr>\n    <tr>\n      <th>3</th>\n      <td>3186</td>\n      <td>40.719586</td>\n      <td>-74.043117</td>\n    </tr>\n    <tr>\n      <th>4</th>\n      <td>3212</td>\n      <td>40.734786</td>\n      <td>-74.050444</td>\n    </tr>\n    <tr>\n      <th>5</th>\n      <td>3194</td>\n      <td>40.725340</td>\n      <td>-74.067622</td>\n    </tr>\n    <tr>\n      <th>6</th>\n      <td>3184</td>\n      <td>40.714145</td>\n      <td>-74.033552</td>\n    </tr>\n    <tr>\n      <th>9</th>\n      <td>3199</td>\n      <td>40.728745</td>\n      <td>-74.032108</td>\n    </tr>\n    <tr>\n      <th>11</th>\n      <td>3678</td>\n      <td>40.725726</td>\n      <td>-74.071959</td>\n    </tr>\n    <tr>\n      <th>17</th>\n      <td>3679</td>\n      <td>40.722104</td>\n      <td>-74.071455</td>\n    </tr>\n    <tr>\n      <th>18</th>\n      <td>3206</td>\n      <td>40.731169</td>\n      <td>-74.057574</td>\n    </tr>\n    <tr>\n      <th>19</th>\n      <td>3195</td>\n      <td>40.730897</td>\n      <td>-74.063913</td>\n    </tr>\n    <tr>\n      <th>22</th>\n      <td>3270</td>\n      <td>40.725289</td>\n      <td>-74.045572</td>\n    </tr>\n    <tr>\n      <th>23</th>\n      <td>3279</td>\n      <td>40.721630</td>\n      <td>-74.049968</td>\n    </tr>\n    <tr>\n      <th>24</th>\n      <td>3203</td>\n      <td>40.727596</td>\n      <td>-74.044247</td>\n    </tr>\n    <tr>\n      <th>27</th>\n      <td>3187</td>\n      <td>40.721124</td>\n      <td>-74.038051</td>\n    </tr>\n    <tr>\n      <th>29</th>\n      <td>3681</td>\n      <td>40.715178</td>\n      <td>-74.037683</td>\n    </tr>\n    <tr>\n      <th>32</th>\n      <td>3677</td>\n      <td>40.727551</td>\n      <td>-74.071061</td>\n    </tr>\n    <tr>\n      <th>34</th>\n      <td>3267</td>\n      <td>40.712419</td>\n      <td>-74.038526</td>\n    </tr>\n    <tr>\n      <th>35</th>\n      <td>3268</td>\n      <td>40.713464</td>\n      <td>-74.062859</td>\n    </tr>\n    <tr>\n      <th>37</th>\n      <td>3278</td>\n      <td>40.725685</td>\n      <td>-74.048790</td>\n    </tr>\n    <tr>\n      <th>38</th>\n      <td>3269</td>\n      <td>40.726012</td>\n      <td>-74.050389</td>\n    </tr>\n    <tr>\n      <th>39</th>\n      <td>3276</td>\n      <td>40.714584</td>\n      <td>-74.042817</td>\n    </tr>\n    <tr>\n      <th>44</th>\n      <td>3209</td>\n      <td>40.724176</td>\n      <td>-74.050656</td>\n    </tr>\n    <tr>\n      <th>45</th>\n      <td>3213</td>\n      <td>40.718489</td>\n      <td>-74.047727</td>\n    </tr>\n    <tr>\n      <th>49</th>\n      <td>3205</td>\n      <td>40.716540</td>\n      <td>-74.049638</td>\n    </tr>\n    <tr>\n      <th>55</th>\n      <td>3214</td>\n      <td>40.712774</td>\n      <td>-74.036486</td>\n    </tr>\n    <tr>\n      <th>58</th>\n      <td>3275</td>\n      <td>40.718355</td>\n      <td>-74.038914</td>\n    </tr>\n    <tr>\n      <th>60</th>\n      <td>3638</td>\n      <td>40.724294</td>\n      <td>-74.035483</td>\n    </tr>\n    <tr>\n      <th>66</th>\n      <td>3201</td>\n      <td>40.737711</td>\n      <td>-74.066921</td>\n    </tr>\n    <tr>\n      <th>71</th>\n      <td>3192</td>\n      <td>40.711242</td>\n      <td>-74.055701</td>\n    </tr>\n    <tr>\n      <th>73</th>\n      <td>3193</td>\n      <td>40.724605</td>\n      <td>-74.078406</td>\n    </tr>\n    <tr>\n      <th>76</th>\n      <td>3273</td>\n      <td>40.721651</td>\n      <td>-74.042884</td>\n    </tr>\n    <tr>\n      <th>78</th>\n      <td>3280</td>\n      <td>40.719282</td>\n      <td>-74.071262</td>\n    </tr>\n    <tr>\n      <th>82</th>\n      <td>3792</td>\n      <td>40.716870</td>\n      <td>-74.032810</td>\n    </tr>\n    <tr>\n      <th>84</th>\n      <td>3272</td>\n      <td>40.723332</td>\n      <td>-74.045953</td>\n    </tr>\n    <tr>\n      <th>87</th>\n      <td>3639</td>\n      <td>40.719252</td>\n      <td>-74.034234</td>\n    </tr>\n    <tr>\n      <th>91</th>\n      <td>3211</td>\n      <td>40.721525</td>\n      <td>-74.046305</td>\n    </tr>\n    <tr>\n      <th>97</th>\n      <td>3210</td>\n      <td>40.742677</td>\n      <td>-74.051789</td>\n    </tr>\n    <tr>\n      <th>114</th>\n      <td>3225</td>\n      <td>40.723659</td>\n      <td>-74.064194</td>\n    </tr>\n    <tr>\n      <th>134</th>\n      <td>3191</td>\n      <td>40.718211</td>\n      <td>-74.083639</td>\n    </tr>\n    <tr>\n      <th>139</th>\n      <td>3220</td>\n      <td>40.734961</td>\n      <td>-74.059503</td>\n    </tr>\n    <tr>\n      <th>166</th>\n      <td>3185</td>\n      <td>40.717732</td>\n      <td>-74.043845</td>\n    </tr>\n    <tr>\n      <th>170</th>\n      <td>3281</td>\n      <td>40.745910</td>\n      <td>-74.057271</td>\n    </tr>\n    <tr>\n      <th>171</th>\n      <td>3791</td>\n      <td>40.735208</td>\n      <td>-74.046964</td>\n    </tr>\n    <tr>\n      <th>172</th>\n      <td>3481</td>\n      <td>40.716490</td>\n      <td>-74.041050</td>\n    </tr>\n    <tr>\n      <th>251</th>\n      <td>3207</td>\n      <td>40.737604</td>\n      <td>-74.052478</td>\n    </tr>\n    <tr>\n      <th>266</th>\n      <td>3483</td>\n      <td>40.719420</td>\n      <td>-74.050990</td>\n    </tr>\n    <tr>\n      <th>267</th>\n      <td>3694</td>\n      <td>40.711130</td>\n      <td>-74.078900</td>\n    </tr>\n    <tr>\n      <th>271</th>\n      <td>3277</td>\n      <td>40.714358</td>\n      <td>-74.066611</td>\n    </tr>\n    <tr>\n      <th>272</th>\n      <td>3196</td>\n      <td>40.744319</td>\n      <td>-74.043991</td>\n    </tr>\n    <tr>\n      <th>796</th>\n      <td>3198</td>\n      <td>40.748716</td>\n      <td>-74.040443</td>\n    </tr>\n    <tr>\n      <th>4289</th>\n      <td>3664</td>\n      <td>40.720195</td>\n      <td>-74.010301</td>\n    </tr>\n    <tr>\n      <th>6632</th>\n      <td>514</td>\n      <td>40.760875</td>\n      <td>-74.002777</td>\n    </tr>\n    <tr>\n      <th>7214</th>\n      <td>505</td>\n      <td>40.749013</td>\n      <td>-73.988484</td>\n    </tr>\n    <tr>\n      <th>7850</th>\n      <td>127</td>\n      <td>40.731724</td>\n      <td>-74.006744</td>\n    </tr>\n    <tr>\n      <th>8195</th>\n      <td>4071</td>\n      <td>40.835775</td>\n      <td>-73.943400</td>\n    </tr>\n    <tr>\n      <th>9933</th>\n      <td>3735</td>\n      <td>40.752694</td>\n      <td>-74.002353</td>\n    </tr>\n    <tr>\n      <th>10345</th>\n      <td>3794</td>\n      <td>40.728660</td>\n      <td>-74.011980</td>\n    </tr>\n  </tbody>\n</table>\n</div>"
     },
     "metadata": {},
     "execution_count": 14
    }
   ],
   "source": [
    "#find all unique station numbers\n",
    "all_stations = combined_stations.drop_duplicates(subset='Station_ID')\n",
    "all_stations.head()"
   ]
  },
  {
   "cell_type": "code",
   "execution_count": 18,
   "id": "b8d0743c",
   "metadata": {},
   "outputs": [
    {
     "output_type": "execute_result",
     "data": {
      "text/plain": [
       "'07310'"
      ]
     },
     "metadata": {},
     "execution_count": 18
    }
   ],
   "source": [
    "#test using new function\n",
    "search = SearchEngine()\n",
    "test_zip = search.by_coordinates(all_stations['Latitude'][0], all_stations['Longitude'][0], returns=1)[0].to_dict()['zipcode']\n",
    "test_zip"
   ]
  },
  {
   "cell_type": "code",
   "execution_count": 44,
   "metadata": {},
   "outputs": [
    {
     "output_type": "execute_result",
     "data": {
      "text/plain": [
       "<bound method NDFrame.head of     Station ID Zip Code\n",
       "0         3202    07310\n",
       "1         3640    07306\n",
       "2         3186    07302\n",
       "3         3212    07310\n",
       "4         3194    07302\n",
       "5         3184    07311\n",
       "6         3199    07310\n",
       "7         3678    07306\n",
       "8         3679    07304\n",
       "9         3206    07302\n",
       "10        3195    07306\n",
       "11        3270    07302\n",
       "12        3279    07302\n",
       "13        3203    07310\n",
       "14        3187    07311\n",
       "15        3681    07311\n",
       "16        3677    07306\n",
       "17        3267    07311\n",
       "18        3268    07304\n",
       "19        3278    07302\n",
       "20        3269    07302\n",
       "21        3276    07302\n",
       "22        3209    07302\n",
       "23        3213    07302\n",
       "24        3205    07302\n",
       "25        3214    07311\n",
       "26        3275    07311\n",
       "27        3638    07311\n",
       "28        3201    07306\n",
       "29        3192    07302\n",
       "30        3193    07304\n",
       "31        3273    07302\n",
       "32        3280    07304\n",
       "33        3792    07311\n",
       "34        3272    07302\n",
       "35        3639    07311\n",
       "36        3211    07302\n",
       "37        3210    07307\n",
       "38        3225    07302\n",
       "39        3191    07304\n",
       "40        3220    07306\n",
       "41        3185    07302\n",
       "42        3281    07307\n",
       "43        3791    07310\n",
       "44        3481    07311\n",
       "45        3207    07310\n",
       "46        3483    07302\n",
       "47        3694    07304\n",
       "48        3277    07304\n",
       "49        3196    07307\n",
       "50        3198    07307\n",
       "51        3664    10013\n",
       "52         514    10018\n",
       "53         505    10001\n",
       "54         127    10014\n",
       "55        4071    10032\n",
       "56        3735    10199\n",
       "57        3794    10013>"
      ]
     },
     "metadata": {},
     "execution_count": 44
    }
   ],
   "source": [
    "#get zip codes for all stations in data set\n",
    "station_details = []\n",
    "for index, row in all_stations.iterrows():\n",
    "    zipcode = search.by_coordinates(row['Latitude'], row['Longitude'], returns=1)[0].to_dict()['zipcode']\n",
    "    station_details.append([int(row['Station_ID']), zipcode])\n",
    "Station_Zips = pd.DataFrame(station_details, columns = ['Station ID', 'Zip Code'])\n",
    "Station_Zips.head"
   ]
  },
  {
   "cell_type": "code",
   "execution_count": 55,
   "metadata": {},
   "outputs": [
    {
     "output_type": "execute_result",
     "data": {
      "text/plain": [
       "   tripduration                 starttime                  stoptime  \\\n",
       "0           146  2020-12-01 00:02:50.1450  2020-12-01 00:05:16.1940   \n",
       "1           572  2020-12-01 00:11:57.3910  2020-12-01 00:21:30.2510   \n",
       "2           387  2020-12-01 00:14:49.3610  2020-12-01 00:21:16.8730   \n",
       "3           188  2020-12-01 00:45:06.3680  2020-12-01 00:48:14.4280   \n",
       "4           594  2020-12-01 01:17:17.0110  2020-12-01 01:27:11.9400   \n",
       "\n",
       "   start station id start station name  start station latitude  \\\n",
       "0              3202       Newport PATH               40.727224   \n",
       "1              3640     Journal Square               40.733670   \n",
       "2              3640     Journal Square               40.733670   \n",
       "3              3186      Grove St PATH               40.719586   \n",
       "4              3212    Christ Hospital               40.734786   \n",
       "\n",
       "   start station longitude  end station id end station name  \\\n",
       "0               -74.033759            3199     Newport Pkwy   \n",
       "1               -74.062500            3280      Astor Place   \n",
       "2               -74.062500            3194  McGinley Square   \n",
       "3               -74.043117            3270  Jersey & 6th St   \n",
       "4               -74.050444            3209     Brunswick St   \n",
       "\n",
       "   end station latitude  end station longitude  bikeid    usertype  \\\n",
       "0             40.728745             -74.032108   42308  Subscriber   \n",
       "1             40.719282             -74.071262   18568  Subscriber   \n",
       "2             40.725340             -74.067622   44543  Subscriber   \n",
       "3             40.725289             -74.045572   43098  Subscriber   \n",
       "4             40.724176             -74.050656   44723  Subscriber   \n",
       "\n",
       "   birth year  gender  Station ID Start Station Zip  \n",
       "0        1989       2        3202             07310  \n",
       "1        1997       2        3640             07306  \n",
       "2        1960       1        3640             07306  \n",
       "3        1998       1        3186             07302  \n",
       "4        1988       1        3212             07310  "
      ],
      "text/html": "<div>\n<style scoped>\n    .dataframe tbody tr th:only-of-type {\n        vertical-align: middle;\n    }\n\n    .dataframe tbody tr th {\n        vertical-align: top;\n    }\n\n    .dataframe thead th {\n        text-align: right;\n    }\n</style>\n<table border=\"1\" class=\"dataframe\">\n  <thead>\n    <tr style=\"text-align: right;\">\n      <th></th>\n      <th>tripduration</th>\n      <th>starttime</th>\n      <th>stoptime</th>\n      <th>start station id</th>\n      <th>start station name</th>\n      <th>start station latitude</th>\n      <th>start station longitude</th>\n      <th>end station id</th>\n      <th>end station name</th>\n      <th>end station latitude</th>\n      <th>end station longitude</th>\n      <th>bikeid</th>\n      <th>usertype</th>\n      <th>birth year</th>\n      <th>gender</th>\n      <th>Station ID</th>\n      <th>Start Station Zip</th>\n    </tr>\n  </thead>\n  <tbody>\n    <tr>\n      <th>0</th>\n      <td>146</td>\n      <td>2020-12-01 00:02:50.1450</td>\n      <td>2020-12-01 00:05:16.1940</td>\n      <td>3202</td>\n      <td>Newport PATH</td>\n      <td>40.727224</td>\n      <td>-74.033759</td>\n      <td>3199</td>\n      <td>Newport Pkwy</td>\n      <td>40.728745</td>\n      <td>-74.032108</td>\n      <td>42308</td>\n      <td>Subscriber</td>\n      <td>1989</td>\n      <td>2</td>\n      <td>3202</td>\n      <td>07310</td>\n    </tr>\n    <tr>\n      <th>1</th>\n      <td>572</td>\n      <td>2020-12-01 00:11:57.3910</td>\n      <td>2020-12-01 00:21:30.2510</td>\n      <td>3640</td>\n      <td>Journal Square</td>\n      <td>40.733670</td>\n      <td>-74.062500</td>\n      <td>3280</td>\n      <td>Astor Place</td>\n      <td>40.719282</td>\n      <td>-74.071262</td>\n      <td>18568</td>\n      <td>Subscriber</td>\n      <td>1997</td>\n      <td>2</td>\n      <td>3640</td>\n      <td>07306</td>\n    </tr>\n    <tr>\n      <th>2</th>\n      <td>387</td>\n      <td>2020-12-01 00:14:49.3610</td>\n      <td>2020-12-01 00:21:16.8730</td>\n      <td>3640</td>\n      <td>Journal Square</td>\n      <td>40.733670</td>\n      <td>-74.062500</td>\n      <td>3194</td>\n      <td>McGinley Square</td>\n      <td>40.725340</td>\n      <td>-74.067622</td>\n      <td>44543</td>\n      <td>Subscriber</td>\n      <td>1960</td>\n      <td>1</td>\n      <td>3640</td>\n      <td>07306</td>\n    </tr>\n    <tr>\n      <th>3</th>\n      <td>188</td>\n      <td>2020-12-01 00:45:06.3680</td>\n      <td>2020-12-01 00:48:14.4280</td>\n      <td>3186</td>\n      <td>Grove St PATH</td>\n      <td>40.719586</td>\n      <td>-74.043117</td>\n      <td>3270</td>\n      <td>Jersey &amp; 6th St</td>\n      <td>40.725289</td>\n      <td>-74.045572</td>\n      <td>43098</td>\n      <td>Subscriber</td>\n      <td>1998</td>\n      <td>1</td>\n      <td>3186</td>\n      <td>07302</td>\n    </tr>\n    <tr>\n      <th>4</th>\n      <td>594</td>\n      <td>2020-12-01 01:17:17.0110</td>\n      <td>2020-12-01 01:27:11.9400</td>\n      <td>3212</td>\n      <td>Christ Hospital</td>\n      <td>40.734786</td>\n      <td>-74.050444</td>\n      <td>3209</td>\n      <td>Brunswick St</td>\n      <td>40.724176</td>\n      <td>-74.050656</td>\n      <td>44723</td>\n      <td>Subscriber</td>\n      <td>1988</td>\n      <td>1</td>\n      <td>3212</td>\n      <td>07310</td>\n    </tr>\n  </tbody>\n</table>\n</div>"
     },
     "metadata": {},
     "execution_count": 55
    }
   ],
   "source": [
    "#add zip codes for start stations\n",
    "new_df = pd.merge(data, Station_Zips,how = 'left', right_on = 'Station ID', left_on = 'start station id', suffixes=(\"_x\", \"_y\"))\n",
    "new_df = new_df.rename(columns={'Zip Code': 'Start Station Zip'})\n",
    "new_df.head()"
   ]
  },
  {
   "cell_type": "code",
   "execution_count": 58,
   "metadata": {},
   "outputs": [
    {
     "output_type": "execute_result",
     "data": {
      "text/plain": [
       "   tripduration                 starttime                  stoptime  \\\n",
       "0           146  2020-12-01 00:02:50.1450  2020-12-01 00:05:16.1940   \n",
       "1           572  2020-12-01 00:11:57.3910  2020-12-01 00:21:30.2510   \n",
       "2           387  2020-12-01 00:14:49.3610  2020-12-01 00:21:16.8730   \n",
       "3           188  2020-12-01 00:45:06.3680  2020-12-01 00:48:14.4280   \n",
       "4           594  2020-12-01 01:17:17.0110  2020-12-01 01:27:11.9400   \n",
       "\n",
       "   start station id start station name  start station latitude  \\\n",
       "0              3202       Newport PATH               40.727224   \n",
       "1              3640     Journal Square               40.733670   \n",
       "2              3640     Journal Square               40.733670   \n",
       "3              3186      Grove St PATH               40.719586   \n",
       "4              3212    Christ Hospital               40.734786   \n",
       "\n",
       "   start station longitude  end station id end station name  \\\n",
       "0               -74.033759            3199     Newport Pkwy   \n",
       "1               -74.062500            3280      Astor Place   \n",
       "2               -74.062500            3194  McGinley Square   \n",
       "3               -74.043117            3270  Jersey & 6th St   \n",
       "4               -74.050444            3209     Brunswick St   \n",
       "\n",
       "   end station latitude  end station longitude  bikeid    usertype  \\\n",
       "0             40.728745             -74.032108   42308  Subscriber   \n",
       "1             40.719282             -74.071262   18568  Subscriber   \n",
       "2             40.725340             -74.067622   44543  Subscriber   \n",
       "3             40.725289             -74.045572   43098  Subscriber   \n",
       "4             40.724176             -74.050656   44723  Subscriber   \n",
       "\n",
       "   birth year  gender  Station ID_x Start Station Zip  Station ID_y  \\\n",
       "0        1989       2          3202             07310          3199   \n",
       "1        1997       2          3640             07306          3280   \n",
       "2        1960       1          3640             07306          3194   \n",
       "3        1998       1          3186             07302          3270   \n",
       "4        1988       1          3212             07310          3209   \n",
       "\n",
       "  End Station Zip  \n",
       "0           07310  \n",
       "1           07304  \n",
       "2           07302  \n",
       "3           07302  \n",
       "4           07302  "
      ],
      "text/html": "<div>\n<style scoped>\n    .dataframe tbody tr th:only-of-type {\n        vertical-align: middle;\n    }\n\n    .dataframe tbody tr th {\n        vertical-align: top;\n    }\n\n    .dataframe thead th {\n        text-align: right;\n    }\n</style>\n<table border=\"1\" class=\"dataframe\">\n  <thead>\n    <tr style=\"text-align: right;\">\n      <th></th>\n      <th>tripduration</th>\n      <th>starttime</th>\n      <th>stoptime</th>\n      <th>start station id</th>\n      <th>start station name</th>\n      <th>start station latitude</th>\n      <th>start station longitude</th>\n      <th>end station id</th>\n      <th>end station name</th>\n      <th>end station latitude</th>\n      <th>end station longitude</th>\n      <th>bikeid</th>\n      <th>usertype</th>\n      <th>birth year</th>\n      <th>gender</th>\n      <th>Station ID_x</th>\n      <th>Start Station Zip</th>\n      <th>Station ID_y</th>\n      <th>End Station Zip</th>\n    </tr>\n  </thead>\n  <tbody>\n    <tr>\n      <th>0</th>\n      <td>146</td>\n      <td>2020-12-01 00:02:50.1450</td>\n      <td>2020-12-01 00:05:16.1940</td>\n      <td>3202</td>\n      <td>Newport PATH</td>\n      <td>40.727224</td>\n      <td>-74.033759</td>\n      <td>3199</td>\n      <td>Newport Pkwy</td>\n      <td>40.728745</td>\n      <td>-74.032108</td>\n      <td>42308</td>\n      <td>Subscriber</td>\n      <td>1989</td>\n      <td>2</td>\n      <td>3202</td>\n      <td>07310</td>\n      <td>3199</td>\n      <td>07310</td>\n    </tr>\n    <tr>\n      <th>1</th>\n      <td>572</td>\n      <td>2020-12-01 00:11:57.3910</td>\n      <td>2020-12-01 00:21:30.2510</td>\n      <td>3640</td>\n      <td>Journal Square</td>\n      <td>40.733670</td>\n      <td>-74.062500</td>\n      <td>3280</td>\n      <td>Astor Place</td>\n      <td>40.719282</td>\n      <td>-74.071262</td>\n      <td>18568</td>\n      <td>Subscriber</td>\n      <td>1997</td>\n      <td>2</td>\n      <td>3640</td>\n      <td>07306</td>\n      <td>3280</td>\n      <td>07304</td>\n    </tr>\n    <tr>\n      <th>2</th>\n      <td>387</td>\n      <td>2020-12-01 00:14:49.3610</td>\n      <td>2020-12-01 00:21:16.8730</td>\n      <td>3640</td>\n      <td>Journal Square</td>\n      <td>40.733670</td>\n      <td>-74.062500</td>\n      <td>3194</td>\n      <td>McGinley Square</td>\n      <td>40.725340</td>\n      <td>-74.067622</td>\n      <td>44543</td>\n      <td>Subscriber</td>\n      <td>1960</td>\n      <td>1</td>\n      <td>3640</td>\n      <td>07306</td>\n      <td>3194</td>\n      <td>07302</td>\n    </tr>\n    <tr>\n      <th>3</th>\n      <td>188</td>\n      <td>2020-12-01 00:45:06.3680</td>\n      <td>2020-12-01 00:48:14.4280</td>\n      <td>3186</td>\n      <td>Grove St PATH</td>\n      <td>40.719586</td>\n      <td>-74.043117</td>\n      <td>3270</td>\n      <td>Jersey &amp; 6th St</td>\n      <td>40.725289</td>\n      <td>-74.045572</td>\n      <td>43098</td>\n      <td>Subscriber</td>\n      <td>1998</td>\n      <td>1</td>\n      <td>3186</td>\n      <td>07302</td>\n      <td>3270</td>\n      <td>07302</td>\n    </tr>\n    <tr>\n      <th>4</th>\n      <td>594</td>\n      <td>2020-12-01 01:17:17.0110</td>\n      <td>2020-12-01 01:27:11.9400</td>\n      <td>3212</td>\n      <td>Christ Hospital</td>\n      <td>40.734786</td>\n      <td>-74.050444</td>\n      <td>3209</td>\n      <td>Brunswick St</td>\n      <td>40.724176</td>\n      <td>-74.050656</td>\n      <td>44723</td>\n      <td>Subscriber</td>\n      <td>1988</td>\n      <td>1</td>\n      <td>3212</td>\n      <td>07310</td>\n      <td>3209</td>\n      <td>07302</td>\n    </tr>\n  </tbody>\n</table>\n</div>"
     },
     "metadata": {},
     "execution_count": 58
    }
   ],
   "source": [
    "#Add zip codes for end stations\n",
    "merged_df = pd.merge(new_df, Station_Zips,how = 'left', right_on = 'Station ID', left_on = 'end station id', suffixes=(\"_x\", \"_y\"))\n",
    "merged_df = merged_df.rename(columns={'Zip Code': 'End Station Zip'})\n",
    "merged_df.head()"
   ]
  },
  {
   "cell_type": "code",
   "execution_count": 59,
   "metadata": {},
   "outputs": [
    {
     "output_type": "execute_result",
     "data": {
      "text/plain": [
       "   tripduration                 starttime                  stoptime  \\\n",
       "0           146  2020-12-01 00:02:50.1450  2020-12-01 00:05:16.1940   \n",
       "1           572  2020-12-01 00:11:57.3910  2020-12-01 00:21:30.2510   \n",
       "2           387  2020-12-01 00:14:49.3610  2020-12-01 00:21:16.8730   \n",
       "3           188  2020-12-01 00:45:06.3680  2020-12-01 00:48:14.4280   \n",
       "4           594  2020-12-01 01:17:17.0110  2020-12-01 01:27:11.9400   \n",
       "\n",
       "   start station id start station name  start station latitude  \\\n",
       "0              3202       Newport PATH               40.727224   \n",
       "1              3640     Journal Square               40.733670   \n",
       "2              3640     Journal Square               40.733670   \n",
       "3              3186      Grove St PATH               40.719586   \n",
       "4              3212    Christ Hospital               40.734786   \n",
       "\n",
       "   start station longitude  end station id end station name  \\\n",
       "0               -74.033759            3199     Newport Pkwy   \n",
       "1               -74.062500            3280      Astor Place   \n",
       "2               -74.062500            3194  McGinley Square   \n",
       "3               -74.043117            3270  Jersey & 6th St   \n",
       "4               -74.050444            3209     Brunswick St   \n",
       "\n",
       "   end station latitude  end station longitude  bikeid    usertype  \\\n",
       "0             40.728745             -74.032108   42308  Subscriber   \n",
       "1             40.719282             -74.071262   18568  Subscriber   \n",
       "2             40.725340             -74.067622   44543  Subscriber   \n",
       "3             40.725289             -74.045572   43098  Subscriber   \n",
       "4             40.724176             -74.050656   44723  Subscriber   \n",
       "\n",
       "   birth year  gender Start Station Zip End Station Zip  \n",
       "0        1989       2             07310           07310  \n",
       "1        1997       2             07306           07304  \n",
       "2        1960       1             07306           07302  \n",
       "3        1998       1             07302           07302  \n",
       "4        1988       1             07310           07302  "
      ],
      "text/html": "<div>\n<style scoped>\n    .dataframe tbody tr th:only-of-type {\n        vertical-align: middle;\n    }\n\n    .dataframe tbody tr th {\n        vertical-align: top;\n    }\n\n    .dataframe thead th {\n        text-align: right;\n    }\n</style>\n<table border=\"1\" class=\"dataframe\">\n  <thead>\n    <tr style=\"text-align: right;\">\n      <th></th>\n      <th>tripduration</th>\n      <th>starttime</th>\n      <th>stoptime</th>\n      <th>start station id</th>\n      <th>start station name</th>\n      <th>start station latitude</th>\n      <th>start station longitude</th>\n      <th>end station id</th>\n      <th>end station name</th>\n      <th>end station latitude</th>\n      <th>end station longitude</th>\n      <th>bikeid</th>\n      <th>usertype</th>\n      <th>birth year</th>\n      <th>gender</th>\n      <th>Start Station Zip</th>\n      <th>End Station Zip</th>\n    </tr>\n  </thead>\n  <tbody>\n    <tr>\n      <th>0</th>\n      <td>146</td>\n      <td>2020-12-01 00:02:50.1450</td>\n      <td>2020-12-01 00:05:16.1940</td>\n      <td>3202</td>\n      <td>Newport PATH</td>\n      <td>40.727224</td>\n      <td>-74.033759</td>\n      <td>3199</td>\n      <td>Newport Pkwy</td>\n      <td>40.728745</td>\n      <td>-74.032108</td>\n      <td>42308</td>\n      <td>Subscriber</td>\n      <td>1989</td>\n      <td>2</td>\n      <td>07310</td>\n      <td>07310</td>\n    </tr>\n    <tr>\n      <th>1</th>\n      <td>572</td>\n      <td>2020-12-01 00:11:57.3910</td>\n      <td>2020-12-01 00:21:30.2510</td>\n      <td>3640</td>\n      <td>Journal Square</td>\n      <td>40.733670</td>\n      <td>-74.062500</td>\n      <td>3280</td>\n      <td>Astor Place</td>\n      <td>40.719282</td>\n      <td>-74.071262</td>\n      <td>18568</td>\n      <td>Subscriber</td>\n      <td>1997</td>\n      <td>2</td>\n      <td>07306</td>\n      <td>07304</td>\n    </tr>\n    <tr>\n      <th>2</th>\n      <td>387</td>\n      <td>2020-12-01 00:14:49.3610</td>\n      <td>2020-12-01 00:21:16.8730</td>\n      <td>3640</td>\n      <td>Journal Square</td>\n      <td>40.733670</td>\n      <td>-74.062500</td>\n      <td>3194</td>\n      <td>McGinley Square</td>\n      <td>40.725340</td>\n      <td>-74.067622</td>\n      <td>44543</td>\n      <td>Subscriber</td>\n      <td>1960</td>\n      <td>1</td>\n      <td>07306</td>\n      <td>07302</td>\n    </tr>\n    <tr>\n      <th>3</th>\n      <td>188</td>\n      <td>2020-12-01 00:45:06.3680</td>\n      <td>2020-12-01 00:48:14.4280</td>\n      <td>3186</td>\n      <td>Grove St PATH</td>\n      <td>40.719586</td>\n      <td>-74.043117</td>\n      <td>3270</td>\n      <td>Jersey &amp; 6th St</td>\n      <td>40.725289</td>\n      <td>-74.045572</td>\n      <td>43098</td>\n      <td>Subscriber</td>\n      <td>1998</td>\n      <td>1</td>\n      <td>07302</td>\n      <td>07302</td>\n    </tr>\n    <tr>\n      <th>4</th>\n      <td>594</td>\n      <td>2020-12-01 01:17:17.0110</td>\n      <td>2020-12-01 01:27:11.9400</td>\n      <td>3212</td>\n      <td>Christ Hospital</td>\n      <td>40.734786</td>\n      <td>-74.050444</td>\n      <td>3209</td>\n      <td>Brunswick St</td>\n      <td>40.724176</td>\n      <td>-74.050656</td>\n      <td>44723</td>\n      <td>Subscriber</td>\n      <td>1988</td>\n      <td>1</td>\n      <td>07310</td>\n      <td>07302</td>\n    </tr>\n  </tbody>\n</table>\n</div>"
     },
     "metadata": {},
     "execution_count": 59
    }
   ],
   "source": [
    "#remove extra columns\n",
    "final_df = merged_df.drop(columns=['Station ID_y', 'Station ID_x'])\n",
    "final_df.head()"
   ]
  },
  {
   "cell_type": "code",
   "execution_count": 60,
   "metadata": {},
   "outputs": [
    {
     "output_type": "execute_result",
     "data": {
      "text/plain": [
       "   tripduration                 starttime                  stoptime  \\\n",
       "0           146  2020-12-01 00:02:50.1450  2020-12-01 00:05:16.1940   \n",
       "1           572  2020-12-01 00:11:57.3910  2020-12-01 00:21:30.2510   \n",
       "2           387  2020-12-01 00:14:49.3610  2020-12-01 00:21:16.8730   \n",
       "3           188  2020-12-01 00:45:06.3680  2020-12-01 00:48:14.4280   \n",
       "4           594  2020-12-01 01:17:17.0110  2020-12-01 01:27:11.9400   \n",
       "\n",
       "   start station id start station name  start station latitude  \\\n",
       "0              3202       Newport PATH               40.727224   \n",
       "1              3640     Journal Square               40.733670   \n",
       "2              3640     Journal Square               40.733670   \n",
       "3              3186      Grove St PATH               40.719586   \n",
       "4              3212    Christ Hospital               40.734786   \n",
       "\n",
       "   start station longitude  end station id end station name  \\\n",
       "0               -74.033759            3199     Newport Pkwy   \n",
       "1               -74.062500            3280      Astor Place   \n",
       "2               -74.062500            3194  McGinley Square   \n",
       "3               -74.043117            3270  Jersey & 6th St   \n",
       "4               -74.050444            3209     Brunswick St   \n",
       "\n",
       "   end station latitude  end station longitude  bikeid    usertype  \\\n",
       "0             40.728745             -74.032108   42308  Subscriber   \n",
       "1             40.719282             -74.071262   18568  Subscriber   \n",
       "2             40.725340             -74.067622   44543  Subscriber   \n",
       "3             40.725289             -74.045572   43098  Subscriber   \n",
       "4             40.724176             -74.050656   44723  Subscriber   \n",
       "\n",
       "   birth year  gender Start Station Zip End Station Zip  \n",
       "0        1989  Female             07310           07310  \n",
       "1        1997  Female             07306           07304  \n",
       "2        1960    Male             07306           07302  \n",
       "3        1998    Male             07302           07302  \n",
       "4        1988    Male             07310           07302  "
      ],
      "text/html": "<div>\n<style scoped>\n    .dataframe tbody tr th:only-of-type {\n        vertical-align: middle;\n    }\n\n    .dataframe tbody tr th {\n        vertical-align: top;\n    }\n\n    .dataframe thead th {\n        text-align: right;\n    }\n</style>\n<table border=\"1\" class=\"dataframe\">\n  <thead>\n    <tr style=\"text-align: right;\">\n      <th></th>\n      <th>tripduration</th>\n      <th>starttime</th>\n      <th>stoptime</th>\n      <th>start station id</th>\n      <th>start station name</th>\n      <th>start station latitude</th>\n      <th>start station longitude</th>\n      <th>end station id</th>\n      <th>end station name</th>\n      <th>end station latitude</th>\n      <th>end station longitude</th>\n      <th>bikeid</th>\n      <th>usertype</th>\n      <th>birth year</th>\n      <th>gender</th>\n      <th>Start Station Zip</th>\n      <th>End Station Zip</th>\n    </tr>\n  </thead>\n  <tbody>\n    <tr>\n      <th>0</th>\n      <td>146</td>\n      <td>2020-12-01 00:02:50.1450</td>\n      <td>2020-12-01 00:05:16.1940</td>\n      <td>3202</td>\n      <td>Newport PATH</td>\n      <td>40.727224</td>\n      <td>-74.033759</td>\n      <td>3199</td>\n      <td>Newport Pkwy</td>\n      <td>40.728745</td>\n      <td>-74.032108</td>\n      <td>42308</td>\n      <td>Subscriber</td>\n      <td>1989</td>\n      <td>Female</td>\n      <td>07310</td>\n      <td>07310</td>\n    </tr>\n    <tr>\n      <th>1</th>\n      <td>572</td>\n      <td>2020-12-01 00:11:57.3910</td>\n      <td>2020-12-01 00:21:30.2510</td>\n      <td>3640</td>\n      <td>Journal Square</td>\n      <td>40.733670</td>\n      <td>-74.062500</td>\n      <td>3280</td>\n      <td>Astor Place</td>\n      <td>40.719282</td>\n      <td>-74.071262</td>\n      <td>18568</td>\n      <td>Subscriber</td>\n      <td>1997</td>\n      <td>Female</td>\n      <td>07306</td>\n      <td>07304</td>\n    </tr>\n    <tr>\n      <th>2</th>\n      <td>387</td>\n      <td>2020-12-01 00:14:49.3610</td>\n      <td>2020-12-01 00:21:16.8730</td>\n      <td>3640</td>\n      <td>Journal Square</td>\n      <td>40.733670</td>\n      <td>-74.062500</td>\n      <td>3194</td>\n      <td>McGinley Square</td>\n      <td>40.725340</td>\n      <td>-74.067622</td>\n      <td>44543</td>\n      <td>Subscriber</td>\n      <td>1960</td>\n      <td>Male</td>\n      <td>07306</td>\n      <td>07302</td>\n    </tr>\n    <tr>\n      <th>3</th>\n      <td>188</td>\n      <td>2020-12-01 00:45:06.3680</td>\n      <td>2020-12-01 00:48:14.4280</td>\n      <td>3186</td>\n      <td>Grove St PATH</td>\n      <td>40.719586</td>\n      <td>-74.043117</td>\n      <td>3270</td>\n      <td>Jersey &amp; 6th St</td>\n      <td>40.725289</td>\n      <td>-74.045572</td>\n      <td>43098</td>\n      <td>Subscriber</td>\n      <td>1998</td>\n      <td>Male</td>\n      <td>07302</td>\n      <td>07302</td>\n    </tr>\n    <tr>\n      <th>4</th>\n      <td>594</td>\n      <td>2020-12-01 01:17:17.0110</td>\n      <td>2020-12-01 01:27:11.9400</td>\n      <td>3212</td>\n      <td>Christ Hospital</td>\n      <td>40.734786</td>\n      <td>-74.050444</td>\n      <td>3209</td>\n      <td>Brunswick St</td>\n      <td>40.724176</td>\n      <td>-74.050656</td>\n      <td>44723</td>\n      <td>Subscriber</td>\n      <td>1988</td>\n      <td>Male</td>\n      <td>07310</td>\n      <td>07302</td>\n    </tr>\n  </tbody>\n</table>\n</div>"
     },
     "metadata": {},
     "execution_count": 60
    }
   ],
   "source": [
    "#Convert gender from numeric values to string values\n",
    "genders = {0:\"Unknown\", 1 : \"Male\", 2 :\"Female\"}\n",
    "final_df['gender'] = [genders[item] for item in final_df['gender']]\n",
    "final_df.head()"
   ]
  },
  {
   "cell_type": "code",
   "execution_count": 61,
   "metadata": {},
   "outputs": [],
   "source": [
    "#Export data to csv for import to Tableau\n",
    "final_df.to_csv('New_CitiBike_TripData_December2020.csv', index = False)"
   ]
  },
  {
   "cell_type": "code",
   "execution_count": 62,
   "metadata": {},
   "outputs": [
    {
     "output_type": "execute_result",
     "data": {
      "text/plain": [
       "   tripduration                 starttime                  stoptime  \\\n",
       "0           320  2019-01-01 00:01:47.4010  2019-01-01 00:07:07.5810   \n",
       "1           316  2019-01-01 00:04:43.7360  2019-01-01 00:10:00.6080   \n",
       "2           591  2019-01-01 00:06:03.9970  2019-01-01 00:15:55.4380   \n",
       "3          2719  2019-01-01 00:07:03.5450  2019-01-01 00:52:22.6500   \n",
       "4           303  2019-01-01 00:07:35.9450  2019-01-01 00:12:39.5020   \n",
       "\n",
       "   start station id           start station name  start station latitude  \\\n",
       "0            3160.0  Central Park West & W 76 St               40.778968   \n",
       "1             519.0        Pershing Square North               40.751873   \n",
       "2            3171.0      Amsterdam Ave & W 82 St               40.785247   \n",
       "3             504.0              1 Ave & E 16 St               40.732219   \n",
       "4             229.0               Great Jones St               40.727434   \n",
       "\n",
       "   start station longitude  end station id        end station name  \\\n",
       "0               -73.973747          3283.0  W 89 St & Columbus Ave   \n",
       "1               -73.977706           518.0         E 39 St & 2 Ave   \n",
       "2               -73.976673          3154.0         E 77 St & 3 Ave   \n",
       "3               -73.981656          3709.0         W 15 St & 6 Ave   \n",
       "4               -73.993790           503.0      E 20 St & Park Ave   \n",
       "\n",
       "   end station latitude  end station longitude  bikeid    usertype  \\\n",
       "0             40.788221             -73.970416   15839  Subscriber   \n",
       "1             40.747804             -73.973442   32723  Subscriber   \n",
       "2             40.773142             -73.958562   27451  Subscriber   \n",
       "3             40.738046             -73.996430   21579  Subscriber   \n",
       "4             40.738274             -73.987520   35379  Subscriber   \n",
       "\n",
       "   birth year  gender  \n",
       "0        1971       1  \n",
       "1        1964       1  \n",
       "2        1987       1  \n",
       "3        1990       1  \n",
       "4        1979       1  "
      ],
      "text/html": "<div>\n<style scoped>\n    .dataframe tbody tr th:only-of-type {\n        vertical-align: middle;\n    }\n\n    .dataframe tbody tr th {\n        vertical-align: top;\n    }\n\n    .dataframe thead th {\n        text-align: right;\n    }\n</style>\n<table border=\"1\" class=\"dataframe\">\n  <thead>\n    <tr style=\"text-align: right;\">\n      <th></th>\n      <th>tripduration</th>\n      <th>starttime</th>\n      <th>stoptime</th>\n      <th>start station id</th>\n      <th>start station name</th>\n      <th>start station latitude</th>\n      <th>start station longitude</th>\n      <th>end station id</th>\n      <th>end station name</th>\n      <th>end station latitude</th>\n      <th>end station longitude</th>\n      <th>bikeid</th>\n      <th>usertype</th>\n      <th>birth year</th>\n      <th>gender</th>\n    </tr>\n  </thead>\n  <tbody>\n    <tr>\n      <th>0</th>\n      <td>320</td>\n      <td>2019-01-01 00:01:47.4010</td>\n      <td>2019-01-01 00:07:07.5810</td>\n      <td>3160.0</td>\n      <td>Central Park West &amp; W 76 St</td>\n      <td>40.778968</td>\n      <td>-73.973747</td>\n      <td>3283.0</td>\n      <td>W 89 St &amp; Columbus Ave</td>\n      <td>40.788221</td>\n      <td>-73.970416</td>\n      <td>15839</td>\n      <td>Subscriber</td>\n      <td>1971</td>\n      <td>1</td>\n    </tr>\n    <tr>\n      <th>1</th>\n      <td>316</td>\n      <td>2019-01-01 00:04:43.7360</td>\n      <td>2019-01-01 00:10:00.6080</td>\n      <td>519.0</td>\n      <td>Pershing Square North</td>\n      <td>40.751873</td>\n      <td>-73.977706</td>\n      <td>518.0</td>\n      <td>E 39 St &amp; 2 Ave</td>\n      <td>40.747804</td>\n      <td>-73.973442</td>\n      <td>32723</td>\n      <td>Subscriber</td>\n      <td>1964</td>\n      <td>1</td>\n    </tr>\n    <tr>\n      <th>2</th>\n      <td>591</td>\n      <td>2019-01-01 00:06:03.9970</td>\n      <td>2019-01-01 00:15:55.4380</td>\n      <td>3171.0</td>\n      <td>Amsterdam Ave &amp; W 82 St</td>\n      <td>40.785247</td>\n      <td>-73.976673</td>\n      <td>3154.0</td>\n      <td>E 77 St &amp; 3 Ave</td>\n      <td>40.773142</td>\n      <td>-73.958562</td>\n      <td>27451</td>\n      <td>Subscriber</td>\n      <td>1987</td>\n      <td>1</td>\n    </tr>\n    <tr>\n      <th>3</th>\n      <td>2719</td>\n      <td>2019-01-01 00:07:03.5450</td>\n      <td>2019-01-01 00:52:22.6500</td>\n      <td>504.0</td>\n      <td>1 Ave &amp; E 16 St</td>\n      <td>40.732219</td>\n      <td>-73.981656</td>\n      <td>3709.0</td>\n      <td>W 15 St &amp; 6 Ave</td>\n      <td>40.738046</td>\n      <td>-73.996430</td>\n      <td>21579</td>\n      <td>Subscriber</td>\n      <td>1990</td>\n      <td>1</td>\n    </tr>\n    <tr>\n      <th>4</th>\n      <td>303</td>\n      <td>2019-01-01 00:07:35.9450</td>\n      <td>2019-01-01 00:12:39.5020</td>\n      <td>229.0</td>\n      <td>Great Jones St</td>\n      <td>40.727434</td>\n      <td>-73.993790</td>\n      <td>503.0</td>\n      <td>E 20 St &amp; Park Ave</td>\n      <td>40.738274</td>\n      <td>-73.987520</td>\n      <td>35379</td>\n      <td>Subscriber</td>\n      <td>1979</td>\n      <td>1</td>\n    </tr>\n  </tbody>\n</table>\n</div>"
     },
     "metadata": {},
     "execution_count": 62
    }
   ],
   "source": [
    "#Repeat process above to format data from Jan 2019\n",
    "Jan_2019_Data = pd.read_csv('201901-citibike-tripdata.csv')\n",
    "Jan_2019_Data.head()"
   ]
  },
  {
   "cell_type": "code",
   "execution_count": 63,
   "metadata": {},
   "outputs": [],
   "source": [
    "##Jan 2019 Data\n",
    "\n",
    "start_stations_2019 = Jan_2019_Data[['start station id','start station latitude', 'start station longitude']]\n",
    "start_stations_2019 = start_stations_2019.rename(columns={'start station id': 'Station_ID','start station latitude': 'Latitude', 'start station longitude': 'Longitude'})\n",
    "end_stations_2019 = Jan_2019_Data[['end station id','end station latitude', 'end station longitude']]\n",
    "end_stations_2019 = end_stations_2019.rename(columns={'end station id': 'Station_ID','end station latitude': 'Latitude', 'end station longitude': 'Longitude'})"
   ]
  },
  {
   "cell_type": "code",
   "execution_count": 66,
   "metadata": {},
   "outputs": [
    {
     "output_type": "execute_result",
     "data": {
      "text/plain": [
       "   Station_ID   Latitude  Longitude\n",
       "0      3160.0  40.778968 -73.973747\n",
       "1       519.0  40.751873 -73.977706\n",
       "2      3171.0  40.785247 -73.976673\n",
       "3       504.0  40.732219 -73.981656\n",
       "4       229.0  40.727434 -73.993790"
      ],
      "text/html": "<div>\n<style scoped>\n    .dataframe tbody tr th:only-of-type {\n        vertical-align: middle;\n    }\n\n    .dataframe tbody tr th {\n        vertical-align: top;\n    }\n\n    .dataframe thead th {\n        text-align: right;\n    }\n</style>\n<table border=\"1\" class=\"dataframe\">\n  <thead>\n    <tr style=\"text-align: right;\">\n      <th></th>\n      <th>Station_ID</th>\n      <th>Latitude</th>\n      <th>Longitude</th>\n    </tr>\n  </thead>\n  <tbody>\n    <tr>\n      <th>0</th>\n      <td>3160.0</td>\n      <td>40.778968</td>\n      <td>-73.973747</td>\n    </tr>\n    <tr>\n      <th>1</th>\n      <td>519.0</td>\n      <td>40.751873</td>\n      <td>-73.977706</td>\n    </tr>\n    <tr>\n      <th>2</th>\n      <td>3171.0</td>\n      <td>40.785247</td>\n      <td>-73.976673</td>\n    </tr>\n    <tr>\n      <th>3</th>\n      <td>504.0</td>\n      <td>40.732219</td>\n      <td>-73.981656</td>\n    </tr>\n    <tr>\n      <th>4</th>\n      <td>229.0</td>\n      <td>40.727434</td>\n      <td>-73.993790</td>\n    </tr>\n  </tbody>\n</table>\n</div>"
     },
     "metadata": {},
     "execution_count": 66
    }
   ],
   "source": [
    "combined_stations_2019 = pd.concat([start_stations_2019, end_stations_2019])\n",
    "combined_stations_2019.head()"
   ]
  },
  {
   "cell_type": "code",
   "execution_count": 67,
   "metadata": {},
   "outputs": [
    {
     "output_type": "execute_result",
     "data": {
      "text/plain": [
       "   Station_ID   Latitude  Longitude\n",
       "0      3160.0  40.778968 -73.973747\n",
       "1       519.0  40.751873 -73.977706\n",
       "2      3171.0  40.785247 -73.976673\n",
       "3       504.0  40.732219 -73.981656\n",
       "4       229.0  40.727434 -73.993790"
      ],
      "text/html": "<div>\n<style scoped>\n    .dataframe tbody tr th:only-of-type {\n        vertical-align: middle;\n    }\n\n    .dataframe tbody tr th {\n        vertical-align: top;\n    }\n\n    .dataframe thead th {\n        text-align: right;\n    }\n</style>\n<table border=\"1\" class=\"dataframe\">\n  <thead>\n    <tr style=\"text-align: right;\">\n      <th></th>\n      <th>Station_ID</th>\n      <th>Latitude</th>\n      <th>Longitude</th>\n    </tr>\n  </thead>\n  <tbody>\n    <tr>\n      <th>0</th>\n      <td>3160.0</td>\n      <td>40.778968</td>\n      <td>-73.973747</td>\n    </tr>\n    <tr>\n      <th>1</th>\n      <td>519.0</td>\n      <td>40.751873</td>\n      <td>-73.977706</td>\n    </tr>\n    <tr>\n      <th>2</th>\n      <td>3171.0</td>\n      <td>40.785247</td>\n      <td>-73.976673</td>\n    </tr>\n    <tr>\n      <th>3</th>\n      <td>504.0</td>\n      <td>40.732219</td>\n      <td>-73.981656</td>\n    </tr>\n    <tr>\n      <th>4</th>\n      <td>229.0</td>\n      <td>40.727434</td>\n      <td>-73.993790</td>\n    </tr>\n  </tbody>\n</table>\n</div>"
     },
     "metadata": {},
     "execution_count": 67
    }
   ],
   "source": [
    "#Grab all stations & their Lat/Long\n",
    "all_stations_2019 = combined_stations_2019.drop_duplicates(subset='Station_ID')\n",
    "all_stations_2019.head()"
   ]
  },
  {
   "cell_type": "code",
   "execution_count": 70,
   "metadata": {},
   "outputs": [
    {
     "output_type": "execute_result",
     "data": {
      "text/plain": [
       "   Station ID Zip Code\n",
       "0      3160.0    10023\n",
       "1       519.0    10110\n",
       "2      3171.0    10023\n",
       "3       504.0    10009\n",
       "4       229.0    10012"
      ],
      "text/html": "<div>\n<style scoped>\n    .dataframe tbody tr th:only-of-type {\n        vertical-align: middle;\n    }\n\n    .dataframe tbody tr th {\n        vertical-align: top;\n    }\n\n    .dataframe thead th {\n        text-align: right;\n    }\n</style>\n<table border=\"1\" class=\"dataframe\">\n  <thead>\n    <tr style=\"text-align: right;\">\n      <th></th>\n      <th>Station ID</th>\n      <th>Zip Code</th>\n    </tr>\n  </thead>\n  <tbody>\n    <tr>\n      <th>0</th>\n      <td>3160.0</td>\n      <td>10023</td>\n    </tr>\n    <tr>\n      <th>1</th>\n      <td>519.0</td>\n      <td>10110</td>\n    </tr>\n    <tr>\n      <th>2</th>\n      <td>3171.0</td>\n      <td>10023</td>\n    </tr>\n    <tr>\n      <th>3</th>\n      <td>504.0</td>\n      <td>10009</td>\n    </tr>\n    <tr>\n      <th>4</th>\n      <td>229.0</td>\n      <td>10012</td>\n    </tr>\n  </tbody>\n</table>\n</div>"
     },
     "metadata": {},
     "execution_count": 70
    }
   ],
   "source": [
    "#Use station Lat/Lng to retrieve zip codes\n",
    "station_details_2019 = []\n",
    "for index, row in all_stations_2019.iterrows():\n",
    "    zipcode = search.by_coordinates(row['Latitude'], row['Longitude'], returns=1)[0].to_dict()['zipcode']\n",
    "    station_details_2019.append([row['Station_ID'], zipcode])\n",
    "Station_Zips_2019 = pd.DataFrame(station_details_2019, columns = ['Station ID', 'Zip Code'])\n",
    "Station_Zips_2019.head()"
   ]
  },
  {
   "cell_type": "code",
   "execution_count": 71,
   "metadata": {},
   "outputs": [
    {
     "output_type": "execute_result",
     "data": {
      "text/plain": [
       "   tripduration                 starttime                  stoptime  \\\n",
       "0           320  2019-01-01 00:01:47.4010  2019-01-01 00:07:07.5810   \n",
       "1           316  2019-01-01 00:04:43.7360  2019-01-01 00:10:00.6080   \n",
       "2           591  2019-01-01 00:06:03.9970  2019-01-01 00:15:55.4380   \n",
       "3          2719  2019-01-01 00:07:03.5450  2019-01-01 00:52:22.6500   \n",
       "4           303  2019-01-01 00:07:35.9450  2019-01-01 00:12:39.5020   \n",
       "\n",
       "   start station id           start station name  start station latitude  \\\n",
       "0            3160.0  Central Park West & W 76 St               40.778968   \n",
       "1             519.0        Pershing Square North               40.751873   \n",
       "2            3171.0      Amsterdam Ave & W 82 St               40.785247   \n",
       "3             504.0              1 Ave & E 16 St               40.732219   \n",
       "4             229.0               Great Jones St               40.727434   \n",
       "\n",
       "   start station longitude  end station id        end station name  \\\n",
       "0               -73.973747          3283.0  W 89 St & Columbus Ave   \n",
       "1               -73.977706           518.0         E 39 St & 2 Ave   \n",
       "2               -73.976673          3154.0         E 77 St & 3 Ave   \n",
       "3               -73.981656          3709.0         W 15 St & 6 Ave   \n",
       "4               -73.993790           503.0      E 20 St & Park Ave   \n",
       "\n",
       "   end station latitude  end station longitude  bikeid    usertype  \\\n",
       "0             40.788221             -73.970416   15839  Subscriber   \n",
       "1             40.747804             -73.973442   32723  Subscriber   \n",
       "2             40.773142             -73.958562   27451  Subscriber   \n",
       "3             40.738046             -73.996430   21579  Subscriber   \n",
       "4             40.738274             -73.987520   35379  Subscriber   \n",
       "\n",
       "   birth year  gender  Station ID Start Station Zip  \n",
       "0        1971       1      3160.0             10023  \n",
       "1        1964       1       519.0             10110  \n",
       "2        1987       1      3171.0             10023  \n",
       "3        1990       1       504.0             10009  \n",
       "4        1979       1       229.0             10012  "
      ],
      "text/html": "<div>\n<style scoped>\n    .dataframe tbody tr th:only-of-type {\n        vertical-align: middle;\n    }\n\n    .dataframe tbody tr th {\n        vertical-align: top;\n    }\n\n    .dataframe thead th {\n        text-align: right;\n    }\n</style>\n<table border=\"1\" class=\"dataframe\">\n  <thead>\n    <tr style=\"text-align: right;\">\n      <th></th>\n      <th>tripduration</th>\n      <th>starttime</th>\n      <th>stoptime</th>\n      <th>start station id</th>\n      <th>start station name</th>\n      <th>start station latitude</th>\n      <th>start station longitude</th>\n      <th>end station id</th>\n      <th>end station name</th>\n      <th>end station latitude</th>\n      <th>end station longitude</th>\n      <th>bikeid</th>\n      <th>usertype</th>\n      <th>birth year</th>\n      <th>gender</th>\n      <th>Station ID</th>\n      <th>Start Station Zip</th>\n    </tr>\n  </thead>\n  <tbody>\n    <tr>\n      <th>0</th>\n      <td>320</td>\n      <td>2019-01-01 00:01:47.4010</td>\n      <td>2019-01-01 00:07:07.5810</td>\n      <td>3160.0</td>\n      <td>Central Park West &amp; W 76 St</td>\n      <td>40.778968</td>\n      <td>-73.973747</td>\n      <td>3283.0</td>\n      <td>W 89 St &amp; Columbus Ave</td>\n      <td>40.788221</td>\n      <td>-73.970416</td>\n      <td>15839</td>\n      <td>Subscriber</td>\n      <td>1971</td>\n      <td>1</td>\n      <td>3160.0</td>\n      <td>10023</td>\n    </tr>\n    <tr>\n      <th>1</th>\n      <td>316</td>\n      <td>2019-01-01 00:04:43.7360</td>\n      <td>2019-01-01 00:10:00.6080</td>\n      <td>519.0</td>\n      <td>Pershing Square North</td>\n      <td>40.751873</td>\n      <td>-73.977706</td>\n      <td>518.0</td>\n      <td>E 39 St &amp; 2 Ave</td>\n      <td>40.747804</td>\n      <td>-73.973442</td>\n      <td>32723</td>\n      <td>Subscriber</td>\n      <td>1964</td>\n      <td>1</td>\n      <td>519.0</td>\n      <td>10110</td>\n    </tr>\n    <tr>\n      <th>2</th>\n      <td>591</td>\n      <td>2019-01-01 00:06:03.9970</td>\n      <td>2019-01-01 00:15:55.4380</td>\n      <td>3171.0</td>\n      <td>Amsterdam Ave &amp; W 82 St</td>\n      <td>40.785247</td>\n      <td>-73.976673</td>\n      <td>3154.0</td>\n      <td>E 77 St &amp; 3 Ave</td>\n      <td>40.773142</td>\n      <td>-73.958562</td>\n      <td>27451</td>\n      <td>Subscriber</td>\n      <td>1987</td>\n      <td>1</td>\n      <td>3171.0</td>\n      <td>10023</td>\n    </tr>\n    <tr>\n      <th>3</th>\n      <td>2719</td>\n      <td>2019-01-01 00:07:03.5450</td>\n      <td>2019-01-01 00:52:22.6500</td>\n      <td>504.0</td>\n      <td>1 Ave &amp; E 16 St</td>\n      <td>40.732219</td>\n      <td>-73.981656</td>\n      <td>3709.0</td>\n      <td>W 15 St &amp; 6 Ave</td>\n      <td>40.738046</td>\n      <td>-73.996430</td>\n      <td>21579</td>\n      <td>Subscriber</td>\n      <td>1990</td>\n      <td>1</td>\n      <td>504.0</td>\n      <td>10009</td>\n    </tr>\n    <tr>\n      <th>4</th>\n      <td>303</td>\n      <td>2019-01-01 00:07:35.9450</td>\n      <td>2019-01-01 00:12:39.5020</td>\n      <td>229.0</td>\n      <td>Great Jones St</td>\n      <td>40.727434</td>\n      <td>-73.993790</td>\n      <td>503.0</td>\n      <td>E 20 St &amp; Park Ave</td>\n      <td>40.738274</td>\n      <td>-73.987520</td>\n      <td>35379</td>\n      <td>Subscriber</td>\n      <td>1979</td>\n      <td>1</td>\n      <td>229.0</td>\n      <td>10012</td>\n    </tr>\n  </tbody>\n</table>\n</div>"
     },
     "metadata": {},
     "execution_count": 71
    }
   ],
   "source": [
    "#Add start & end station zip codes to full dataframe\n",
    "new_df_2019 = pd.merge(Jan_2019_Data, Station_Zips_2019,how = 'left', right_on = 'Station ID', left_on = 'start station id', suffixes=(\"_x\", \"_y\"))\n",
    "new_df_2019 = new_df_2019.rename(columns={'Zip Code': 'Start Station Zip'})\n",
    "new_df_2019.head()"
   ]
  },
  {
   "cell_type": "code",
   "execution_count": 72,
   "metadata": {},
   "outputs": [
    {
     "output_type": "execute_result",
     "data": {
      "text/plain": [
       "   tripduration                 starttime                  stoptime  \\\n",
       "0           320  2019-01-01 00:01:47.4010  2019-01-01 00:07:07.5810   \n",
       "1           316  2019-01-01 00:04:43.7360  2019-01-01 00:10:00.6080   \n",
       "2           591  2019-01-01 00:06:03.9970  2019-01-01 00:15:55.4380   \n",
       "3          2719  2019-01-01 00:07:03.5450  2019-01-01 00:52:22.6500   \n",
       "4           303  2019-01-01 00:07:35.9450  2019-01-01 00:12:39.5020   \n",
       "\n",
       "   start station id           start station name  start station latitude  \\\n",
       "0            3160.0  Central Park West & W 76 St               40.778968   \n",
       "1             519.0        Pershing Square North               40.751873   \n",
       "2            3171.0      Amsterdam Ave & W 82 St               40.785247   \n",
       "3             504.0              1 Ave & E 16 St               40.732219   \n",
       "4             229.0               Great Jones St               40.727434   \n",
       "\n",
       "   start station longitude  end station id        end station name  \\\n",
       "0               -73.973747          3283.0  W 89 St & Columbus Ave   \n",
       "1               -73.977706           518.0         E 39 St & 2 Ave   \n",
       "2               -73.976673          3154.0         E 77 St & 3 Ave   \n",
       "3               -73.981656          3709.0         W 15 St & 6 Ave   \n",
       "4               -73.993790           503.0      E 20 St & Park Ave   \n",
       "\n",
       "   end station latitude  end station longitude  bikeid    usertype  \\\n",
       "0             40.788221             -73.970416   15839  Subscriber   \n",
       "1             40.747804             -73.973442   32723  Subscriber   \n",
       "2             40.773142             -73.958562   27451  Subscriber   \n",
       "3             40.738046             -73.996430   21579  Subscriber   \n",
       "4             40.738274             -73.987520   35379  Subscriber   \n",
       "\n",
       "   birth year  gender  Station ID_x Start Station Zip  Station ID_y  \\\n",
       "0        1971       1        3160.0             10023        3283.0   \n",
       "1        1964       1         519.0             10110         518.0   \n",
       "2        1987       1        3171.0             10023        3154.0   \n",
       "3        1990       1         504.0             10009        3709.0   \n",
       "4        1979       1         229.0             10012         503.0   \n",
       "\n",
       "  End Station Zip  \n",
       "0           10162  \n",
       "1           10017  \n",
       "2           10021  \n",
       "3           10011  \n",
       "4           10003  "
      ],
      "text/html": "<div>\n<style scoped>\n    .dataframe tbody tr th:only-of-type {\n        vertical-align: middle;\n    }\n\n    .dataframe tbody tr th {\n        vertical-align: top;\n    }\n\n    .dataframe thead th {\n        text-align: right;\n    }\n</style>\n<table border=\"1\" class=\"dataframe\">\n  <thead>\n    <tr style=\"text-align: right;\">\n      <th></th>\n      <th>tripduration</th>\n      <th>starttime</th>\n      <th>stoptime</th>\n      <th>start station id</th>\n      <th>start station name</th>\n      <th>start station latitude</th>\n      <th>start station longitude</th>\n      <th>end station id</th>\n      <th>end station name</th>\n      <th>end station latitude</th>\n      <th>end station longitude</th>\n      <th>bikeid</th>\n      <th>usertype</th>\n      <th>birth year</th>\n      <th>gender</th>\n      <th>Station ID_x</th>\n      <th>Start Station Zip</th>\n      <th>Station ID_y</th>\n      <th>End Station Zip</th>\n    </tr>\n  </thead>\n  <tbody>\n    <tr>\n      <th>0</th>\n      <td>320</td>\n      <td>2019-01-01 00:01:47.4010</td>\n      <td>2019-01-01 00:07:07.5810</td>\n      <td>3160.0</td>\n      <td>Central Park West &amp; W 76 St</td>\n      <td>40.778968</td>\n      <td>-73.973747</td>\n      <td>3283.0</td>\n      <td>W 89 St &amp; Columbus Ave</td>\n      <td>40.788221</td>\n      <td>-73.970416</td>\n      <td>15839</td>\n      <td>Subscriber</td>\n      <td>1971</td>\n      <td>1</td>\n      <td>3160.0</td>\n      <td>10023</td>\n      <td>3283.0</td>\n      <td>10162</td>\n    </tr>\n    <tr>\n      <th>1</th>\n      <td>316</td>\n      <td>2019-01-01 00:04:43.7360</td>\n      <td>2019-01-01 00:10:00.6080</td>\n      <td>519.0</td>\n      <td>Pershing Square North</td>\n      <td>40.751873</td>\n      <td>-73.977706</td>\n      <td>518.0</td>\n      <td>E 39 St &amp; 2 Ave</td>\n      <td>40.747804</td>\n      <td>-73.973442</td>\n      <td>32723</td>\n      <td>Subscriber</td>\n      <td>1964</td>\n      <td>1</td>\n      <td>519.0</td>\n      <td>10110</td>\n      <td>518.0</td>\n      <td>10017</td>\n    </tr>\n    <tr>\n      <th>2</th>\n      <td>591</td>\n      <td>2019-01-01 00:06:03.9970</td>\n      <td>2019-01-01 00:15:55.4380</td>\n      <td>3171.0</td>\n      <td>Amsterdam Ave &amp; W 82 St</td>\n      <td>40.785247</td>\n      <td>-73.976673</td>\n      <td>3154.0</td>\n      <td>E 77 St &amp; 3 Ave</td>\n      <td>40.773142</td>\n      <td>-73.958562</td>\n      <td>27451</td>\n      <td>Subscriber</td>\n      <td>1987</td>\n      <td>1</td>\n      <td>3171.0</td>\n      <td>10023</td>\n      <td>3154.0</td>\n      <td>10021</td>\n    </tr>\n    <tr>\n      <th>3</th>\n      <td>2719</td>\n      <td>2019-01-01 00:07:03.5450</td>\n      <td>2019-01-01 00:52:22.6500</td>\n      <td>504.0</td>\n      <td>1 Ave &amp; E 16 St</td>\n      <td>40.732219</td>\n      <td>-73.981656</td>\n      <td>3709.0</td>\n      <td>W 15 St &amp; 6 Ave</td>\n      <td>40.738046</td>\n      <td>-73.996430</td>\n      <td>21579</td>\n      <td>Subscriber</td>\n      <td>1990</td>\n      <td>1</td>\n      <td>504.0</td>\n      <td>10009</td>\n      <td>3709.0</td>\n      <td>10011</td>\n    </tr>\n    <tr>\n      <th>4</th>\n      <td>303</td>\n      <td>2019-01-01 00:07:35.9450</td>\n      <td>2019-01-01 00:12:39.5020</td>\n      <td>229.0</td>\n      <td>Great Jones St</td>\n      <td>40.727434</td>\n      <td>-73.993790</td>\n      <td>503.0</td>\n      <td>E 20 St &amp; Park Ave</td>\n      <td>40.738274</td>\n      <td>-73.987520</td>\n      <td>35379</td>\n      <td>Subscriber</td>\n      <td>1979</td>\n      <td>1</td>\n      <td>229.0</td>\n      <td>10012</td>\n      <td>503.0</td>\n      <td>10003</td>\n    </tr>\n  </tbody>\n</table>\n</div>"
     },
     "metadata": {},
     "execution_count": 72
    }
   ],
   "source": [
    "merged_df_2019 = pd.merge(new_df_2019, Station_Zips_2019,how = 'left', right_on = 'Station ID', left_on = 'end station id', suffixes=(\"_x\", \"_y\"))\n",
    "merged_df_2019 = merged_df_2019.rename(columns={'Zip Code': 'End Station Zip'})\n",
    "merged_df_2019.head()"
   ]
  },
  {
   "cell_type": "code",
   "execution_count": 73,
   "metadata": {},
   "outputs": [
    {
     "output_type": "execute_result",
     "data": {
      "text/plain": [
       "   tripduration                 starttime                  stoptime  \\\n",
       "0           320  2019-01-01 00:01:47.4010  2019-01-01 00:07:07.5810   \n",
       "1           316  2019-01-01 00:04:43.7360  2019-01-01 00:10:00.6080   \n",
       "2           591  2019-01-01 00:06:03.9970  2019-01-01 00:15:55.4380   \n",
       "3          2719  2019-01-01 00:07:03.5450  2019-01-01 00:52:22.6500   \n",
       "4           303  2019-01-01 00:07:35.9450  2019-01-01 00:12:39.5020   \n",
       "\n",
       "   start station id           start station name  start station latitude  \\\n",
       "0            3160.0  Central Park West & W 76 St               40.778968   \n",
       "1             519.0        Pershing Square North               40.751873   \n",
       "2            3171.0      Amsterdam Ave & W 82 St               40.785247   \n",
       "3             504.0              1 Ave & E 16 St               40.732219   \n",
       "4             229.0               Great Jones St               40.727434   \n",
       "\n",
       "   start station longitude  end station id        end station name  \\\n",
       "0               -73.973747          3283.0  W 89 St & Columbus Ave   \n",
       "1               -73.977706           518.0         E 39 St & 2 Ave   \n",
       "2               -73.976673          3154.0         E 77 St & 3 Ave   \n",
       "3               -73.981656          3709.0         W 15 St & 6 Ave   \n",
       "4               -73.993790           503.0      E 20 St & Park Ave   \n",
       "\n",
       "   end station latitude  end station longitude  bikeid    usertype  \\\n",
       "0             40.788221             -73.970416   15839  Subscriber   \n",
       "1             40.747804             -73.973442   32723  Subscriber   \n",
       "2             40.773142             -73.958562   27451  Subscriber   \n",
       "3             40.738046             -73.996430   21579  Subscriber   \n",
       "4             40.738274             -73.987520   35379  Subscriber   \n",
       "\n",
       "   birth year  gender Start Station Zip End Station Zip  \n",
       "0        1971       1             10023           10162  \n",
       "1        1964       1             10110           10017  \n",
       "2        1987       1             10023           10021  \n",
       "3        1990       1             10009           10011  \n",
       "4        1979       1             10012           10003  "
      ],
      "text/html": "<div>\n<style scoped>\n    .dataframe tbody tr th:only-of-type {\n        vertical-align: middle;\n    }\n\n    .dataframe tbody tr th {\n        vertical-align: top;\n    }\n\n    .dataframe thead th {\n        text-align: right;\n    }\n</style>\n<table border=\"1\" class=\"dataframe\">\n  <thead>\n    <tr style=\"text-align: right;\">\n      <th></th>\n      <th>tripduration</th>\n      <th>starttime</th>\n      <th>stoptime</th>\n      <th>start station id</th>\n      <th>start station name</th>\n      <th>start station latitude</th>\n      <th>start station longitude</th>\n      <th>end station id</th>\n      <th>end station name</th>\n      <th>end station latitude</th>\n      <th>end station longitude</th>\n      <th>bikeid</th>\n      <th>usertype</th>\n      <th>birth year</th>\n      <th>gender</th>\n      <th>Start Station Zip</th>\n      <th>End Station Zip</th>\n    </tr>\n  </thead>\n  <tbody>\n    <tr>\n      <th>0</th>\n      <td>320</td>\n      <td>2019-01-01 00:01:47.4010</td>\n      <td>2019-01-01 00:07:07.5810</td>\n      <td>3160.0</td>\n      <td>Central Park West &amp; W 76 St</td>\n      <td>40.778968</td>\n      <td>-73.973747</td>\n      <td>3283.0</td>\n      <td>W 89 St &amp; Columbus Ave</td>\n      <td>40.788221</td>\n      <td>-73.970416</td>\n      <td>15839</td>\n      <td>Subscriber</td>\n      <td>1971</td>\n      <td>1</td>\n      <td>10023</td>\n      <td>10162</td>\n    </tr>\n    <tr>\n      <th>1</th>\n      <td>316</td>\n      <td>2019-01-01 00:04:43.7360</td>\n      <td>2019-01-01 00:10:00.6080</td>\n      <td>519.0</td>\n      <td>Pershing Square North</td>\n      <td>40.751873</td>\n      <td>-73.977706</td>\n      <td>518.0</td>\n      <td>E 39 St &amp; 2 Ave</td>\n      <td>40.747804</td>\n      <td>-73.973442</td>\n      <td>32723</td>\n      <td>Subscriber</td>\n      <td>1964</td>\n      <td>1</td>\n      <td>10110</td>\n      <td>10017</td>\n    </tr>\n    <tr>\n      <th>2</th>\n      <td>591</td>\n      <td>2019-01-01 00:06:03.9970</td>\n      <td>2019-01-01 00:15:55.4380</td>\n      <td>3171.0</td>\n      <td>Amsterdam Ave &amp; W 82 St</td>\n      <td>40.785247</td>\n      <td>-73.976673</td>\n      <td>3154.0</td>\n      <td>E 77 St &amp; 3 Ave</td>\n      <td>40.773142</td>\n      <td>-73.958562</td>\n      <td>27451</td>\n      <td>Subscriber</td>\n      <td>1987</td>\n      <td>1</td>\n      <td>10023</td>\n      <td>10021</td>\n    </tr>\n    <tr>\n      <th>3</th>\n      <td>2719</td>\n      <td>2019-01-01 00:07:03.5450</td>\n      <td>2019-01-01 00:52:22.6500</td>\n      <td>504.0</td>\n      <td>1 Ave &amp; E 16 St</td>\n      <td>40.732219</td>\n      <td>-73.981656</td>\n      <td>3709.0</td>\n      <td>W 15 St &amp; 6 Ave</td>\n      <td>40.738046</td>\n      <td>-73.996430</td>\n      <td>21579</td>\n      <td>Subscriber</td>\n      <td>1990</td>\n      <td>1</td>\n      <td>10009</td>\n      <td>10011</td>\n    </tr>\n    <tr>\n      <th>4</th>\n      <td>303</td>\n      <td>2019-01-01 00:07:35.9450</td>\n      <td>2019-01-01 00:12:39.5020</td>\n      <td>229.0</td>\n      <td>Great Jones St</td>\n      <td>40.727434</td>\n      <td>-73.993790</td>\n      <td>503.0</td>\n      <td>E 20 St &amp; Park Ave</td>\n      <td>40.738274</td>\n      <td>-73.987520</td>\n      <td>35379</td>\n      <td>Subscriber</td>\n      <td>1979</td>\n      <td>1</td>\n      <td>10012</td>\n      <td>10003</td>\n    </tr>\n  </tbody>\n</table>\n</div>"
     },
     "metadata": {},
     "execution_count": 73
    }
   ],
   "source": [
    "#Remove un-needed columns\n",
    "final_df_2019 = merged_df_2019.drop(columns=['Station ID_y', 'Station ID_x'])\n",
    "final_df_2019.head()"
   ]
  },
  {
   "cell_type": "code",
   "execution_count": 74,
   "metadata": {},
   "outputs": [
    {
     "output_type": "execute_result",
     "data": {
      "text/plain": [
       "   tripduration                 starttime                  stoptime  \\\n",
       "0           320  2019-01-01 00:01:47.4010  2019-01-01 00:07:07.5810   \n",
       "1           316  2019-01-01 00:04:43.7360  2019-01-01 00:10:00.6080   \n",
       "2           591  2019-01-01 00:06:03.9970  2019-01-01 00:15:55.4380   \n",
       "3          2719  2019-01-01 00:07:03.5450  2019-01-01 00:52:22.6500   \n",
       "4           303  2019-01-01 00:07:35.9450  2019-01-01 00:12:39.5020   \n",
       "\n",
       "   start station id           start station name  start station latitude  \\\n",
       "0            3160.0  Central Park West & W 76 St               40.778968   \n",
       "1             519.0        Pershing Square North               40.751873   \n",
       "2            3171.0      Amsterdam Ave & W 82 St               40.785247   \n",
       "3             504.0              1 Ave & E 16 St               40.732219   \n",
       "4             229.0               Great Jones St               40.727434   \n",
       "\n",
       "   start station longitude  end station id        end station name  \\\n",
       "0               -73.973747          3283.0  W 89 St & Columbus Ave   \n",
       "1               -73.977706           518.0         E 39 St & 2 Ave   \n",
       "2               -73.976673          3154.0         E 77 St & 3 Ave   \n",
       "3               -73.981656          3709.0         W 15 St & 6 Ave   \n",
       "4               -73.993790           503.0      E 20 St & Park Ave   \n",
       "\n",
       "   end station latitude  end station longitude  bikeid    usertype  \\\n",
       "0             40.788221             -73.970416   15839  Subscriber   \n",
       "1             40.747804             -73.973442   32723  Subscriber   \n",
       "2             40.773142             -73.958562   27451  Subscriber   \n",
       "3             40.738046             -73.996430   21579  Subscriber   \n",
       "4             40.738274             -73.987520   35379  Subscriber   \n",
       "\n",
       "   birth year gender Start Station Zip End Station Zip  \n",
       "0        1971   Male             10023           10162  \n",
       "1        1964   Male             10110           10017  \n",
       "2        1987   Male             10023           10021  \n",
       "3        1990   Male             10009           10011  \n",
       "4        1979   Male             10012           10003  "
      ],
      "text/html": "<div>\n<style scoped>\n    .dataframe tbody tr th:only-of-type {\n        vertical-align: middle;\n    }\n\n    .dataframe tbody tr th {\n        vertical-align: top;\n    }\n\n    .dataframe thead th {\n        text-align: right;\n    }\n</style>\n<table border=\"1\" class=\"dataframe\">\n  <thead>\n    <tr style=\"text-align: right;\">\n      <th></th>\n      <th>tripduration</th>\n      <th>starttime</th>\n      <th>stoptime</th>\n      <th>start station id</th>\n      <th>start station name</th>\n      <th>start station latitude</th>\n      <th>start station longitude</th>\n      <th>end station id</th>\n      <th>end station name</th>\n      <th>end station latitude</th>\n      <th>end station longitude</th>\n      <th>bikeid</th>\n      <th>usertype</th>\n      <th>birth year</th>\n      <th>gender</th>\n      <th>Start Station Zip</th>\n      <th>End Station Zip</th>\n    </tr>\n  </thead>\n  <tbody>\n    <tr>\n      <th>0</th>\n      <td>320</td>\n      <td>2019-01-01 00:01:47.4010</td>\n      <td>2019-01-01 00:07:07.5810</td>\n      <td>3160.0</td>\n      <td>Central Park West &amp; W 76 St</td>\n      <td>40.778968</td>\n      <td>-73.973747</td>\n      <td>3283.0</td>\n      <td>W 89 St &amp; Columbus Ave</td>\n      <td>40.788221</td>\n      <td>-73.970416</td>\n      <td>15839</td>\n      <td>Subscriber</td>\n      <td>1971</td>\n      <td>Male</td>\n      <td>10023</td>\n      <td>10162</td>\n    </tr>\n    <tr>\n      <th>1</th>\n      <td>316</td>\n      <td>2019-01-01 00:04:43.7360</td>\n      <td>2019-01-01 00:10:00.6080</td>\n      <td>519.0</td>\n      <td>Pershing Square North</td>\n      <td>40.751873</td>\n      <td>-73.977706</td>\n      <td>518.0</td>\n      <td>E 39 St &amp; 2 Ave</td>\n      <td>40.747804</td>\n      <td>-73.973442</td>\n      <td>32723</td>\n      <td>Subscriber</td>\n      <td>1964</td>\n      <td>Male</td>\n      <td>10110</td>\n      <td>10017</td>\n    </tr>\n    <tr>\n      <th>2</th>\n      <td>591</td>\n      <td>2019-01-01 00:06:03.9970</td>\n      <td>2019-01-01 00:15:55.4380</td>\n      <td>3171.0</td>\n      <td>Amsterdam Ave &amp; W 82 St</td>\n      <td>40.785247</td>\n      <td>-73.976673</td>\n      <td>3154.0</td>\n      <td>E 77 St &amp; 3 Ave</td>\n      <td>40.773142</td>\n      <td>-73.958562</td>\n      <td>27451</td>\n      <td>Subscriber</td>\n      <td>1987</td>\n      <td>Male</td>\n      <td>10023</td>\n      <td>10021</td>\n    </tr>\n    <tr>\n      <th>3</th>\n      <td>2719</td>\n      <td>2019-01-01 00:07:03.5450</td>\n      <td>2019-01-01 00:52:22.6500</td>\n      <td>504.0</td>\n      <td>1 Ave &amp; E 16 St</td>\n      <td>40.732219</td>\n      <td>-73.981656</td>\n      <td>3709.0</td>\n      <td>W 15 St &amp; 6 Ave</td>\n      <td>40.738046</td>\n      <td>-73.996430</td>\n      <td>21579</td>\n      <td>Subscriber</td>\n      <td>1990</td>\n      <td>Male</td>\n      <td>10009</td>\n      <td>10011</td>\n    </tr>\n    <tr>\n      <th>4</th>\n      <td>303</td>\n      <td>2019-01-01 00:07:35.9450</td>\n      <td>2019-01-01 00:12:39.5020</td>\n      <td>229.0</td>\n      <td>Great Jones St</td>\n      <td>40.727434</td>\n      <td>-73.993790</td>\n      <td>503.0</td>\n      <td>E 20 St &amp; Park Ave</td>\n      <td>40.738274</td>\n      <td>-73.987520</td>\n      <td>35379</td>\n      <td>Subscriber</td>\n      <td>1979</td>\n      <td>Male</td>\n      <td>10012</td>\n      <td>10003</td>\n    </tr>\n  </tbody>\n</table>\n</div>"
     },
     "metadata": {},
     "execution_count": 74
    }
   ],
   "source": [
    "genders = {0:\"Unknown\", 1 : \"Male\", 2 :\"Female\"}\n",
    "final_df_2019['gender'] = [genders[item] for item in final_df_2019['gender']]\n",
    "final_df_2019.head()"
   ]
  },
  {
   "cell_type": "code",
   "execution_count": 75,
   "metadata": {},
   "outputs": [],
   "source": [
    "final_df_2019.to_csv('CitiBike_TripData_January2019.csv', index = False)"
   ]
  },
  {
   "cell_type": "code",
   "execution_count": null,
   "metadata": {},
   "outputs": [],
   "source": []
  }
 ],
 "metadata": {
  "kernelspec": {
   "name": "python390jvsc74a57bd0aee8b7b246df8f9039afb4144a1f6fd8d2ca17a180786b69acc140d282b71a49",
   "display_name": "Python 3.9.0 64-bit"
  },
  "language_info": {
   "codemirror_mode": {
    "name": "ipython",
    "version": 3
   },
   "file_extension": ".py",
   "mimetype": "text/x-python",
   "name": "python",
   "nbconvert_exporter": "python",
   "pygments_lexer": "ipython3",
   "version": "3.9.0"
  },
  "metadata": {
   "interpreter": {
    "hash": "aee8b7b246df8f9039afb4144a1f6fd8d2ca17a180786b69acc140d282b71a49"
   }
  }
 },
 "nbformat": 4,
 "nbformat_minor": 5
}